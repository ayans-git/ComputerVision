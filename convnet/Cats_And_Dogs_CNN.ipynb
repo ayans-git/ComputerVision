{
 "cells": [
  {
   "cell_type": "code",
   "execution_count": 1,
   "metadata": {},
   "outputs": [
    {
     "name": "stderr",
     "output_type": "stream",
     "text": [
      "D:\\InstalledSoftware\\Anaconda\\lib\\site-packages\\h5py\\__init__.py:36: FutureWarning: Conversion of the second argument of issubdtype from `float` to `np.floating` is deprecated. In future, it will be treated as `np.float64 == np.dtype(float).type`.\n",
      "  from ._conv import register_converters as _register_converters\n",
      "Using TensorFlow backend.\n"
     ]
    }
   ],
   "source": [
    "#STEP: Import libraries for model \n",
    "from keras import layers\n",
    "from keras import models\n",
    "from keras import optimizers\n",
    "from keras import losses\n",
    "from keras import metrics"
   ]
  },
  {
   "cell_type": "code",
   "execution_count": 2,
   "metadata": {},
   "outputs": [],
   "source": [
    "#STEP: Design Covn model with MaxPooling\n",
    "def model_conv():\n",
    "    model = models.Sequential()\n",
    "    model.add(layers.Conv2D(32, (3, 3), activation = 'relu', input_shape = (150, 150, 3))) # 150 X 150 is an arbitrary choice\n",
    "    model.add(layers.MaxPooling2D((2, 2)))\n",
    "    model.add(layers.Conv2D(64, (3, 3), activation = 'relu'))\n",
    "    model.add(layers.MaxPooling2D((2, 2)))\n",
    "    model.add(layers.Conv2D(128, (3, 3), activation = 'relu'))\n",
    "    model.add(layers.MaxPooling2D((2, 2)))\n",
    "    model.add(layers.Conv2D(128, (3, 3), activation = 'relu'))\n",
    "    model.add(layers.MaxPooling2D((2, 2)))\n",
    "    model.add(layers.Flatten())\n",
    "    model.add(layers.Dense(512, activation = 'relu'))\n",
    "    model.add(layers.Dense(1, activation = 'sigmoid'))\n",
    "    \n",
    "    model.compile(optimizer = optimizers.RMSprop(lr = 1e-4),\n",
    "                 loss = losses.binary_crossentropy,\n",
    "                 metrics = [metrics.binary_accuracy])\n",
    "    return model"
   ]
  },
  {
   "cell_type": "code",
   "execution_count": 3,
   "metadata": {},
   "outputs": [
    {
     "name": "stdout",
     "output_type": "stream",
     "text": [
      "Found 2000 images belonging to 2 classes.\n",
      "Found 1000 images belonging to 2 classes.\n"
     ]
    }
   ],
   "source": [
    "#STEP: Using ImageDataGenerator to read images from directories\n",
    "from keras.preprocessing.image import ImageDataGenerator\n",
    "\n",
    "train_dir = 'C:/Users/write/OneDrive/Deep Learning Data/cats_and_dogs_subset/train'\n",
    "validation_dir = 'C:/Users/write/OneDrive/Deep Learning Data/cats_and_dogs_subset/validation'\n",
    "test_dir = 'C:/Users/write/OneDrive/Deep Learning Data/cats_and_dogs_subset/test'\n",
    "\n",
    "train_datagen = ImageDataGenerator(rescale = 1./255)\n",
    "test_datagen = ImageDataGenerator(rescale = 1./255)\n",
    "\n",
    "train_generator = train_datagen.flow_from_directory(\n",
    "            train_dir,\n",
    "            target_size = (150, 150),\n",
    "            batch_size = 20,\n",
    "            class_mode = 'binary')\n",
    "\n",
    "validation_generator = test_datagen.flow_from_directory(\n",
    "            validation_dir,\n",
    "            target_size = (150, 150),\n",
    "            batch_size = 20,\n",
    "            class_mode = 'binary')"
   ]
  },
  {
   "cell_type": "code",
   "execution_count": 4,
   "metadata": {},
   "outputs": [
    {
     "name": "stdout",
     "output_type": "stream",
     "text": [
      "data batch shape:  (20, 150, 150, 3)\n",
      "labels batch shape:  (20,)\n"
     ]
    }
   ],
   "source": [
    "#STEP (optional): Let's look at the output of one of these generators\n",
    "for data_batch, labels_batch in train_generator:\n",
    "    print('data batch shape: ', data_batch.shape)\n",
    "    print('labels batch shape: ', labels_batch.shape)\n",
    "    break"
   ]
  },
  {
   "cell_type": "code",
   "execution_count": 5,
   "metadata": {},
   "outputs": [
    {
     "name": "stdout",
     "output_type": "stream",
     "text": [
      "Epoch 1/30\n",
      "100/100 [==============================] - 167s 2s/step - loss: 0.6869 - binary_accuracy: 0.5540 - val_loss: 0.6706 - val_binary_accuracy: 0.5540\n",
      "Epoch 2/30\n",
      "100/100 [==============================] - 149s 1s/step - loss: 0.6556 - binary_accuracy: 0.6060 - val_loss: 0.6335 - val_binary_accuracy: 0.6360\n",
      "Epoch 3/30\n",
      "100/100 [==============================] - 148s 1s/step - loss: 0.6098 - binary_accuracy: 0.6695 - val_loss: 0.6043 - val_binary_accuracy: 0.6670\n",
      "Epoch 4/30\n",
      "100/100 [==============================] - 149s 1s/step - loss: 0.5652 - binary_accuracy: 0.7035 - val_loss: 0.6016 - val_binary_accuracy: 0.6670\n",
      "Epoch 5/30\n",
      "100/100 [==============================] - 147s 1s/step - loss: 0.5345 - binary_accuracy: 0.7240 - val_loss: 0.5936 - val_binary_accuracy: 0.6750\n",
      "Epoch 6/30\n",
      "100/100 [==============================] - 148s 1s/step - loss: 0.5039 - binary_accuracy: 0.7560 - val_loss: 0.5813 - val_binary_accuracy: 0.6980\n",
      "Epoch 7/30\n",
      "100/100 [==============================] - 149s 1s/step - loss: 0.4753 - binary_accuracy: 0.7700 - val_loss: 0.5627 - val_binary_accuracy: 0.6980\n",
      "Epoch 8/30\n",
      "100/100 [==============================] - 147s 1s/step - loss: 0.4581 - binary_accuracy: 0.7850 - val_loss: 0.6024 - val_binary_accuracy: 0.6840\n",
      "Epoch 9/30\n",
      "100/100 [==============================] - 154s 2s/step - loss: 0.4274 - binary_accuracy: 0.7960 - val_loss: 0.5903 - val_binary_accuracy: 0.7070\n",
      "Epoch 10/30\n",
      "100/100 [==============================] - 157s 2s/step - loss: 0.4050 - binary_accuracy: 0.8180 - val_loss: 0.5537 - val_binary_accuracy: 0.7180\n",
      "Epoch 11/30\n",
      "100/100 [==============================] - 156s 2s/step - loss: 0.3716 - binary_accuracy: 0.8365 - val_loss: 0.6204 - val_binary_accuracy: 0.7070\n",
      "Epoch 12/30\n",
      "100/100 [==============================] - 158s 2s/step - loss: 0.3490 - binary_accuracy: 0.8415 - val_loss: 0.6085 - val_binary_accuracy: 0.7180\n",
      "Epoch 13/30\n",
      "100/100 [==============================] - 157s 2s/step - loss: 0.3258 - binary_accuracy: 0.8550 - val_loss: 0.5784 - val_binary_accuracy: 0.7140\n",
      "Epoch 14/30\n",
      "100/100 [==============================] - 162s 2s/step - loss: 0.3033 - binary_accuracy: 0.8670 - val_loss: 0.5771 - val_binary_accuracy: 0.7400\n",
      "Epoch 15/30\n",
      "100/100 [==============================] - 156s 2s/step - loss: 0.2838 - binary_accuracy: 0.8785 - val_loss: 0.6631 - val_binary_accuracy: 0.7020\n",
      "Epoch 16/30\n",
      "100/100 [==============================] - 159s 2s/step - loss: 0.2568 - binary_accuracy: 0.8975 - val_loss: 0.6239 - val_binary_accuracy: 0.7330\n",
      "Epoch 17/30\n",
      "100/100 [==============================] - 162s 2s/step - loss: 0.2302 - binary_accuracy: 0.9140 - val_loss: 0.6287 - val_binary_accuracy: 0.7390\n",
      "Epoch 18/30\n",
      "100/100 [==============================] - 159s 2s/step - loss: 0.2146 - binary_accuracy: 0.9175 - val_loss: 0.6486 - val_binary_accuracy: 0.7370\n",
      "Epoch 19/30\n",
      "100/100 [==============================] - 160s 2s/step - loss: 0.1914 - binary_accuracy: 0.9260 - val_loss: 0.6508 - val_binary_accuracy: 0.7410\n",
      "Epoch 20/30\n",
      "100/100 [==============================] - 159s 2s/step - loss: 0.1748 - binary_accuracy: 0.9395 - val_loss: 0.7717 - val_binary_accuracy: 0.7130\n",
      "Epoch 21/30\n",
      "100/100 [==============================] - 171s 2s/step - loss: 0.1583 - binary_accuracy: 0.9450 - val_loss: 0.6753 - val_binary_accuracy: 0.7280\n",
      "Epoch 22/30\n",
      "100/100 [==============================] - 166s 2s/step - loss: 0.1296 - binary_accuracy: 0.9570 - val_loss: 0.7626 - val_binary_accuracy: 0.7300\n",
      "Epoch 23/30\n",
      "100/100 [==============================] - 159s 2s/step - loss: 0.1163 - binary_accuracy: 0.9575 - val_loss: 0.7058 - val_binary_accuracy: 0.7430\n",
      "Epoch 24/30\n",
      "100/100 [==============================] - 158s 2s/step - loss: 0.1059 - binary_accuracy: 0.9665 - val_loss: 0.7560 - val_binary_accuracy: 0.7310\n",
      "Epoch 25/30\n",
      "100/100 [==============================] - 159s 2s/step - loss: 0.0846 - binary_accuracy: 0.9780 - val_loss: 0.8701 - val_binary_accuracy: 0.7130\n",
      "Epoch 26/30\n",
      "100/100 [==============================] - 153s 2s/step - loss: 0.0772 - binary_accuracy: 0.9770 - val_loss: 0.8208 - val_binary_accuracy: 0.7430\n",
      "Epoch 27/30\n",
      "100/100 [==============================] - 151s 2s/step - loss: 0.0655 - binary_accuracy: 0.9840 - val_loss: 0.8648 - val_binary_accuracy: 0.7380\n",
      "Epoch 28/30\n",
      "100/100 [==============================] - 152s 2s/step - loss: 0.0569 - binary_accuracy: 0.9810 - val_loss: 0.9004 - val_binary_accuracy: 0.7460\n",
      "Epoch 29/30\n",
      "100/100 [==============================] - 153s 2s/step - loss: 0.0482 - binary_accuracy: 0.9870 - val_loss: 1.0185 - val_binary_accuracy: 0.7170\n",
      "Epoch 30/30\n",
      "100/100 [==============================] - 153s 2s/step - loss: 0.0430 - binary_accuracy: 0.9905 - val_loss: 1.0391 - val_binary_accuracy: 0.7310\n"
     ]
    }
   ],
   "source": [
    "#STEP: Fitting model using a batch generator\n",
    "\n",
    "model = model_conv()\n",
    "history_conv = model.fit_generator(\n",
    "    train_generator,\n",
    "    steps_per_epoch = 100, #100 gradient decent steps\n",
    "    epochs = 30,\n",
    "    validation_data = validation_generator,\n",
    "    validation_steps = 50 #50 gradient decent steps\n",
    "    ,verbose = 0\n",
    "    ) "
   ]
  },
  {
   "cell_type": "code",
   "execution_count": 6,
   "metadata": {},
   "outputs": [],
   "source": [
    "#STEP: Save model\n",
    "model.save('cats_and_dogs_subset_1.h5')"
   ]
  },
  {
   "cell_type": "code",
   "execution_count": 8,
   "metadata": {},
   "outputs": [
    {
     "data": {
      "image/png": "[encoded data removed]",
      "text/plain": [
       "<matplotlib.figure.Figure at 0x28189ba3eb8>"
      ]
     },
     "metadata": {},
     "output_type": "display_data"
    },
    {
     "data": {
      "image/png": "[encoded data removed]",
      "text/plain": [
       "<matplotlib.figure.Figure at 0x28189c734e0>"
      ]
     },
     "metadata": {},
     "output_type": "display_data"
    }
   ],
   "source": [
    "import matplotlib.pyplot as plt\n",
    "\n",
    "acc = history_conv.history['binary_accuracy']\n",
    "val_acc = history_conv.history['val_binary_accuracy']\n",
    "loss = history_conv.history['loss']\n",
    "val_loss = history_conv.history['val_loss']\n",
    "\n",
    "epochs = range(1, len(acc) + 1)\n",
    "\n",
    "plt.plot(epochs, acc, 'bo', label = 'Training Accuracy')\n",
    "plt.plot(epochs, val_acc, 'r+', label = 'Validation Accuracy')\n",
    "plt.title('Training and Validation Accuracy')\n",
    "plt.legend()\n",
    "\n",
    "plt.figure()\n",
    "\n",
    "plt.plot(epochs, loss, 'yd', label = 'Training Loss')\n",
    "plt.plot(epochs, val_loss, 'g^', label = 'Validation Loss')\n",
    "plt.title('Training and Validation Loss')\n",
    "plt.legend()\n",
    "\n",
    "plt.show()"
   ]
  },
  {
   "cell_type": "code",
   "execution_count": null,
   "metadata": {},
   "outputs": [],
   "source": []
  }
 ],
 "metadata": {
  "kernelspec": {
   "display_name": "Python 3",
   "language": "python",
   "name": "python3"
  },
  "language_info": {
   "codemirror_mode": {
    "name": "ipython",
    "version": 3
   },
   "file_extension": ".py",
   "mimetype": "text/x-python",
   "name": "python",
   "nbconvert_exporter": "python",
   "pygments_lexer": "ipython3",
   "version": "3.6.4"
  }
 },
 "nbformat": 4,
 "nbformat_minor": 2
}
