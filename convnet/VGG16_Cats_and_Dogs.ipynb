{
 "cells": [
  {
   "cell_type": "code",
   "execution_count": 1,
   "metadata": {},
   "outputs": [
    {
     "name": "stderr",
     "output_type": "stream",
     "text": [
      "D:\\InstalledSoftware\\Anaconda\\lib\\site-packages\\h5py\\__init__.py:36: FutureWarning: Conversion of the second argument of issubdtype from `float` to `np.floating` is deprecated. In future, it will be treated as `np.float64 == np.dtype(float).type`.\n",
      "  from ._conv import register_converters as _register_converters\n",
      "Using TensorFlow backend.\n"
     ]
    },
    {
     "name": "stdout",
     "output_type": "stream",
     "text": [
      "Downloading data from https://github.com/fchollet/deep-learning-models/releases/download/v0.1/vgg16_weights_tf_dim_ordering_tf_kernels_notop.h5\n",
      "58892288/58889256 [==============================] - 19s 0us/step\n",
      "_________________________________________________________________\n",
      "Layer (type)                 Output Shape              Param #   \n",
      "=================================================================\n",
      "input_1 (InputLayer)         (None, 150, 150, 3)       0         \n",
      "_________________________________________________________________\n",
      "block1_conv1 (Conv2D)        (None, 150, 150, 64)      1792      \n",
      "_________________________________________________________________\n",
      "block1_conv2 (Conv2D)        (None, 150, 150, 64)      36928     \n",
      "_________________________________________________________________\n",
      "block1_pool (MaxPooling2D)   (None, 75, 75, 64)        0         \n",
      "_________________________________________________________________\n",
      "block2_conv1 (Conv2D)        (None, 75, 75, 128)       73856     \n",
      "_________________________________________________________________\n",
      "block2_conv2 (Conv2D)        (None, 75, 75, 128)       147584    \n",
      "_________________________________________________________________\n",
      "block2_pool (MaxPooling2D)   (None, 37, 37, 128)       0         \n",
      "_________________________________________________________________\n",
      "block3_conv1 (Conv2D)        (None, 37, 37, 256)       295168    \n",
      "_________________________________________________________________\n",
      "block3_conv2 (Conv2D)        (None, 37, 37, 256)       590080    \n",
      "_________________________________________________________________\n",
      "block3_conv3 (Conv2D)        (None, 37, 37, 256)       590080    \n",
      "_________________________________________________________________\n",
      "block3_pool (MaxPooling2D)   (None, 18, 18, 256)       0         \n",
      "_________________________________________________________________\n",
      "block4_conv1 (Conv2D)        (None, 18, 18, 512)       1180160   \n",
      "_________________________________________________________________\n",
      "block4_conv2 (Conv2D)        (None, 18, 18, 512)       2359808   \n",
      "_________________________________________________________________\n",
      "block4_conv3 (Conv2D)        (None, 18, 18, 512)       2359808   \n",
      "_________________________________________________________________\n",
      "block4_pool (MaxPooling2D)   (None, 9, 9, 512)         0         \n",
      "_________________________________________________________________\n",
      "block5_conv1 (Conv2D)        (None, 9, 9, 512)         2359808   \n",
      "_________________________________________________________________\n",
      "block5_conv2 (Conv2D)        (None, 9, 9, 512)         2359808   \n",
      "_________________________________________________________________\n",
      "block5_conv3 (Conv2D)        (None, 9, 9, 512)         2359808   \n",
      "_________________________________________________________________\n",
      "block5_pool (MaxPooling2D)   (None, 4, 4, 512)         0         \n",
      "=================================================================\n",
      "Total params: 14,714,688\n",
      "Trainable params: 14,714,688\n",
      "Non-trainable params: 0\n",
      "_________________________________________________________________\n"
     ]
    }
   ],
   "source": [
    "#STEP: Instantiate the VGG16 Convolutional base\n",
    "\n",
    "from keras.applications import VGG16\n",
    "\n",
    "conv_base = VGG16(weights = 'imagenet'\n",
    "                 , include_top = False         #whether to include densely connected classifier or not\n",
    "                 , input_shape = (150, 150, 3))\n",
    "\n",
    "conv_base.summary()"
   ]
  },
  {
   "cell_type": "code",
   "execution_count": 3,
   "metadata": {},
   "outputs": [
    {
     "name": "stdout",
     "output_type": "stream",
     "text": [
      "Found 2000 images belonging to 2 classes.\n",
      "Found 1000 images belonging to 2 classes.\n",
      "Found 1000 images belonging to 2 classes.\n"
     ]
    }
   ],
   "source": [
    "#STEP: Extract Features using the Pretrained Convolutional base\n",
    "\n",
    "import os\n",
    "import numpy as np\n",
    "from keras.preprocessing.image import ImageDataGenerator\n",
    "\n",
    "base_dir = 'C:/Users/write/OneDrive/Deep Learning Data/cats_and_dogs_subset'\n",
    "train_dir = os.path.join(base_dir, 'train')\n",
    "validation_dir = os.path.join(base_dir, 'validation')\n",
    "test_dir = os.path.join(base_dir, 'test')\n",
    "\n",
    "datagen = ImageDataGenerator(rescale = 1./255)\n",
    "batch_size = 20\n",
    "\n",
    "def extract_features(directory, sample_count):\n",
    "    features = np.zeros(shape = (sample_count, 4, 4, 512))  #4,4,512 is from last layer of pretrained model\n",
    "    labels = np.zeros(shape = (sample_count))\n",
    "    generator = datagen.flow_from_directory(\n",
    "            directory\n",
    "            , target_size = (150, 150)\n",
    "            , batch_size = batch_size\n",
    "            , class_mode = 'binary')\n",
    "    \n",
    "    iCount = 0\n",
    "    \n",
    "    for inputs_batch, labels_batch in generator:\n",
    "        features_batch = conv_base.predict(inputs_batch)\n",
    "        features[iCount * batch_size : (iCount + 1) * batch_size] = features_batch\n",
    "        labels[iCount * batch_size : (iCount + 1) * batch_size] = labels_batch\n",
    "        iCount += 1\n",
    "        if iCount * batch_size >= sample_count:\n",
    "            break      #Note that because generators yield data indefinitely in a loop, you must break after every image has been seen once\n",
    "    \n",
    "    return features, labels\n",
    "\n",
    "train_features, train_labels = extract_features(train_dir, 2000)\n",
    "validation_features, validation_labels = extract_features(validation_dir, 1000)\n",
    "test_features, test_labels = extract_features(test_dir, 1000)\n",
    "\n",
    "train_features = np.reshape(train_features, (2000, 4 * 4 * 512))\n",
    "validation_features = np.reshape(validation_features, (1000, 4 * 4 * 512))\n",
    "test_features = np.reshape(test_features, (1000, 4 * 4 * 512))"
   ]
  },
  {
   "cell_type": "code",
   "execution_count": 4,
   "metadata": {},
   "outputs": [
    {
     "name": "stdout",
     "output_type": "stream",
     "text": [
      "Train on 2000 samples, validate on 1000 samples\n",
      "Epoch 1/30\n",
      "2000/2000 [==============================] - 3s 2ms/step - loss: 0.5966 - binary_accuracy: 0.6720 - val_loss: 0.4392 - val_binary_accuracy: 0.8080\n",
      "Epoch 2/30\n",
      "2000/2000 [==============================] - 3s 2ms/step - loss: 0.4205 - binary_accuracy: 0.8155 - val_loss: 0.3547 - val_binary_accuracy: 0.8690\n",
      "Epoch 3/30\n",
      "2000/2000 [==============================] - 4s 2ms/step - loss: 0.3593 - binary_accuracy: 0.8505 - val_loss: 0.3159 - val_binary_accuracy: 0.8870\n",
      "Epoch 4/30\n",
      "2000/2000 [==============================] - 4s 2ms/step - loss: 0.3058 - binary_accuracy: 0.8810 - val_loss: 0.2942 - val_binary_accuracy: 0.8900\n",
      "Epoch 5/30\n",
      "2000/2000 [==============================] - 4s 2ms/step - loss: 0.2797 - binary_accuracy: 0.8905 - val_loss: 0.2815 - val_binary_accuracy: 0.8920\n",
      "Epoch 6/30\n",
      "2000/2000 [==============================] - 3s 2ms/step - loss: 0.2560 - binary_accuracy: 0.9000 - val_loss: 0.2681 - val_binary_accuracy: 0.8980\n",
      "Epoch 7/30\n",
      "2000/2000 [==============================] - 3s 1ms/step - loss: 0.2396 - binary_accuracy: 0.9020 - val_loss: 0.2598 - val_binary_accuracy: 0.9020\n",
      "Epoch 8/30\n",
      "2000/2000 [==============================] - 4s 2ms/step - loss: 0.2245 - binary_accuracy: 0.9175 - val_loss: 0.2532 - val_binary_accuracy: 0.9030\n",
      "Epoch 9/30\n",
      "2000/2000 [==============================] - 4s 2ms/step - loss: 0.2099 - binary_accuracy: 0.9170 - val_loss: 0.2492 - val_binary_accuracy: 0.9030\n",
      "Epoch 10/30\n",
      "2000/2000 [==============================] - 4s 2ms/step - loss: 0.2086 - binary_accuracy: 0.9255 - val_loss: 0.2556 - val_binary_accuracy: 0.8990\n",
      "Epoch 11/30\n",
      "2000/2000 [==============================] - 4s 2ms/step - loss: 0.1964 - binary_accuracy: 0.9320 - val_loss: 0.2410 - val_binary_accuracy: 0.9110\n",
      "Epoch 12/30\n",
      "2000/2000 [==============================] - 4s 2ms/step - loss: 0.1846 - binary_accuracy: 0.9345 - val_loss: 0.2499 - val_binary_accuracy: 0.8940\n",
      "Epoch 13/30\n",
      "2000/2000 [==============================] - 4s 2ms/step - loss: 0.1736 - binary_accuracy: 0.9420 - val_loss: 0.2365 - val_binary_accuracy: 0.9100\n",
      "Epoch 14/30\n",
      "2000/2000 [==============================] - 4s 2ms/step - loss: 0.1618 - binary_accuracy: 0.9450 - val_loss: 0.2516 - val_binary_accuracy: 0.8940\n",
      "Epoch 15/30\n",
      "2000/2000 [==============================] - 4s 2ms/step - loss: 0.1597 - binary_accuracy: 0.9400 - val_loss: 0.2352 - val_binary_accuracy: 0.9100\n",
      "Epoch 16/30\n",
      "2000/2000 [==============================] - 4s 2ms/step - loss: 0.1533 - binary_accuracy: 0.9440 - val_loss: 0.2391 - val_binary_accuracy: 0.9040\n",
      "Epoch 17/30\n",
      "2000/2000 [==============================] - 4s 2ms/step - loss: 0.1448 - binary_accuracy: 0.9430 - val_loss: 0.2341 - val_binary_accuracy: 0.9060\n",
      "Epoch 18/30\n",
      "2000/2000 [==============================] - 4s 2ms/step - loss: 0.1450 - binary_accuracy: 0.9470 - val_loss: 0.2328 - val_binary_accuracy: 0.9060\n",
      "Epoch 19/30\n",
      "2000/2000 [==============================] - 4s 2ms/step - loss: 0.1326 - binary_accuracy: 0.9535 - val_loss: 0.2373 - val_binary_accuracy: 0.9050\n",
      "Epoch 20/30\n",
      "2000/2000 [==============================] - 4s 2ms/step - loss: 0.1241 - binary_accuracy: 0.9580 - val_loss: 0.2351 - val_binary_accuracy: 0.9070\n",
      "Epoch 21/30\n",
      "2000/2000 [==============================] - 4s 2ms/step - loss: 0.1216 - binary_accuracy: 0.9605 - val_loss: 0.2381 - val_binary_accuracy: 0.9030\n",
      "Epoch 22/30\n",
      "2000/2000 [==============================] - 4s 2ms/step - loss: 0.1222 - binary_accuracy: 0.9600 - val_loss: 0.2334 - val_binary_accuracy: 0.9040\n",
      "Epoch 23/30\n",
      "2000/2000 [==============================] - 4s 2ms/step - loss: 0.1135 - binary_accuracy: 0.9570 - val_loss: 0.2359 - val_binary_accuracy: 0.9030\n",
      "Epoch 24/30\n",
      "2000/2000 [==============================] - 4s 2ms/step - loss: 0.1103 - binary_accuracy: 0.9625 - val_loss: 0.2383 - val_binary_accuracy: 0.9030\n",
      "Epoch 25/30\n",
      "2000/2000 [==============================] - 4s 2ms/step - loss: 0.1043 - binary_accuracy: 0.9690 - val_loss: 0.2341 - val_binary_accuracy: 0.9040\n",
      "Epoch 26/30\n",
      "2000/2000 [==============================] - 4s 2ms/step - loss: 0.1002 - binary_accuracy: 0.9700 - val_loss: 0.2355 - val_binary_accuracy: 0.9070\n",
      "Epoch 27/30\n",
      "2000/2000 [==============================] - 4s 2ms/step - loss: 0.1027 - binary_accuracy: 0.9655 - val_loss: 0.2354 - val_binary_accuracy: 0.9040\n",
      "Epoch 28/30\n",
      "2000/2000 [==============================] - 4s 2ms/step - loss: 0.0950 - binary_accuracy: 0.9690 - val_loss: 0.2347 - val_binary_accuracy: 0.9060\n",
      "Epoch 29/30\n",
      "2000/2000 [==============================] - 4s 2ms/step - loss: 0.0928 - binary_accuracy: 0.9705 - val_loss: 0.2352 - val_binary_accuracy: 0.9070\n",
      "Epoch 30/30\n",
      "2000/2000 [==============================] - 4s 2ms/step - loss: 0.0853 - binary_accuracy: 0.9775 - val_loss: 0.2394 - val_binary_accuracy: 0.8990\n"
     ]
    }
   ],
   "source": [
    "#STEP: Defining and training the densely connected classifier\n",
    "\n",
    "from keras import models\n",
    "from keras import layers\n",
    "from keras import optimizers\n",
    "from keras import losses\n",
    "from keras import metrics\n",
    "\n",
    "model = models.Sequential()\n",
    "model.add(layers.Dense(256, activation = 'relu', input_dim = 4 * 4 * 512))\n",
    "model.add(layers.Dropout(0.5))\n",
    "model.add(layers.Dense(1, activation = 'sigmoid'))\n",
    "\n",
    "model.compile(optimizer = optimizers.RMSprop(lr = 2e-5),\n",
    "             loss = losses.binary_crossentropy,\n",
    "             metrics = [metrics.binary_accuracy])\n",
    "\n",
    "history_vgg16 = model.fit(train_features, train_labels,\n",
    "                   epochs = 30\n",
    "                   , batch_size = batch_size\n",
    "                   , validation_data = (validation_features, validation_labels))"
   ]
  },
  {
   "cell_type": "code",
   "execution_count": 5,
   "metadata": {},
   "outputs": [],
   "source": [
    "#STEP: Save model\n",
    "model.save('vgg16_cats_and_dogs_subset_1.h5')"
   ]
  },
  {
   "cell_type": "code",
   "execution_count": 7,
   "metadata": {},
   "outputs": [
    {
     "data": {
      "image/png": "[encoded data removed]",
      "text/plain": [
       "<matplotlib.figure.Figure at 0x17d87695438>"
      ]
     },
     "metadata": {},
     "output_type": "display_data"
    },
    {
     "data": {
      "image/png": "[encoded data removed]",
      "text/plain": [
       "<matplotlib.figure.Figure at 0x17da615f470>"
      ]
     },
     "metadata": {},
     "output_type": "display_data"
    }
   ],
   "source": [
    "#STEP: Plot the results\n",
    "\n",
    "import matplotlib.pyplot as plt\n",
    "\n",
    "acc = history_vgg16.history['binary_accuracy']\n",
    "val_acc = history_vgg16.history['val_binary_accuracy']\n",
    "loss = history_vgg16.history['loss']\n",
    "val_loss = history_vgg16.history['val_loss']\n",
    "\n",
    "epochs = range(1, len(acc) + 1)\n",
    "\n",
    "plt.plot(epochs, acc, 'bo', label = 'Training Accuracy')\n",
    "plt.plot(epochs, val_acc, 'b', label = 'Validation Accuracy')\n",
    "plt.title('Training and Validation Accuracy')\n",
    "plt.legend()\n",
    "\n",
    "plt.figure()\n",
    "\n",
    "plt.plot(epochs, loss, 'r+', label = 'Training Loss')\n",
    "plt.plot(epochs, val_loss, 'r', label = 'Validation Loss')\n",
    "plt.title('Training and Validation Loss')\n",
    "plt.legend()\n",
    "\n",
    "plt.show()"
   ]
  },
  {
   "cell_type": "code",
   "execution_count": null,
   "metadata": {},
   "outputs": [],
   "source": []
  }
 ],
 "metadata": {
  "kernelspec": {
   "display_name": "Python 3",
   "language": "python",
   "name": "python3"
  },
  "language_info": {
   "codemirror_mode": {
    "name": "ipython",
    "version": 3
   },
   "file_extension": ".py",
   "mimetype": "text/x-python",
   "name": "python",
   "nbconvert_exporter": "python",
   "pygments_lexer": "ipython3",
   "version": "3.6.4"
  }
 },
 "nbformat": 4,
 "nbformat_minor": 2
}
